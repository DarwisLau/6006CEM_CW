{
 "cells": [
  {
   "cell_type": "code",
   "execution_count": 8,
   "id": "54cdaa19-c5cb-4b7d-8109-b6b93ae51b0b",
   "metadata": {},
   "outputs": [],
   "source": [
    "import os\n",
    "import pandas as pd\n",
    "from sklearn.model_selection import train_test_split\n",
    "from sklearn.feature_extraction.text import TfidfVectorizer\n",
    "from sklearn.neighbors import KNeighborsClassifier\n",
    "from sklearn.pipeline import Pipeline\n",
    "from sklearn.model_selection import GridSearchCV\n",
    "from sklearn.metrics import accuracy_score, classification_report, confusion_matrix"
   ]
  },
  {
   "cell_type": "code",
   "execution_count": 9,
   "id": "8fc2b0e9-3305-4475-bcdd-d3c8d89dc9c2",
   "metadata": {},
   "outputs": [],
   "source": [
    "def load_dataset(directory):\n",
    "    texts = []\n",
    "    labels = []\n",
    "    for filename in os.listdir(directory):\n",
    "        if filename.endswith(\".txt\"):\n",
    "            filepath = os.path.join(directory, filename)\n",
    "            with open(filepath, 'r', encoding='utf-8', errors='ignore') as file:\n",
    "                text = file.read()\n",
    "                texts.append(text)\n",
    "                content = file.read()\n",
    "                labels.append(directory.split('/')[-1])\n",
    "    return pd.DataFrame({'content': texts, 'label': labels})"
   ]
  },
  {
   "cell_type": "code",
   "execution_count": 10,
   "id": "4528224a-0ad0-40fc-be06-b5b26d158e3b",
   "metadata": {},
   "outputs": [],
   "source": [
    "spam_df = load_dataset('C:/Users/user/Documents/enron6/spam')\n",
    "ham_df = load_dataset('C:/Users/user/Documents/enron6/ham')"
   ]
  },
  {
   "cell_type": "code",
   "execution_count": 11,
   "id": "da3be8a9-631d-46ae-b751-ab296f33f143",
   "metadata": {},
   "outputs": [
    {
     "name": "stdout",
     "output_type": "stream",
     "text": [
      "                                             content label\n",
      "0  Subject: advs\\ngreetings ,\\ni am benedicta lin...  spam\n",
      "1  Subject: whats new in summer ? bawled\\ncarolyn...  spam\n",
      "2  Subject: \\nh $ ello\\ndea 54 r home owner ,\\nwe...  spam\n",
      "3  Subject: : ) ) you can not save the world by q...  spam\n",
      "4  Subject: need software ? click here .\\ntop qua...  spam\n"
     ]
    }
   ],
   "source": [
    "# Concatenate spam and ham datasets\n",
    "enron_spam_df = pd.concat([spam_df, ham_df], ignore_index=True)\n",
    "\n",
    "# Explore the dataset\n",
    "print(enron_spam_df.head())"
   ]
  },
  {
   "cell_type": "code",
   "execution_count": 12,
   "id": "13f60bf1-eb66-4e80-b700-6425288c97ef",
   "metadata": {},
   "outputs": [],
   "source": [
    "X = enron_spam_df['content']\n",
    "y = enron_spam_df['label']"
   ]
  },
  {
   "cell_type": "code",
   "execution_count": 13,
   "id": "0bc8aabb-36d0-447a-9ad9-bb933c76b51b",
   "metadata": {},
   "outputs": [],
   "source": [
    "# Train-test split\n",
    "X_train, X_test, y_train, y_test = train_test_split(X, y, test_size=0.2, random_state=42)\n",
    "\n",
    "knn_classifier = KNeighborsClassifier()\n",
    "\n",
    "knn_pipeline = Pipeline([\n",
    "    ('tfidf', TfidfVectorizer(max_features=1000, stop_words='english')),\n",
    "    ('knn', knn_classifier)\n",
    "])"
   ]
  },
  {
   "cell_type": "code",
   "execution_count": 14,
   "id": "b271c3ad-e834-439e-8cdc-dffe492ca3f2",
   "metadata": {},
   "outputs": [
    {
     "name": "stdout",
     "output_type": "stream",
     "text": [
      "Best Hyperparameters: {'knn__n_neighbors': 7, 'knn__weights': 'distance'}\n"
     ]
    }
   ],
   "source": [
    "param_grid = {\n",
    "    'knn__n_neighbors': [3, 5, 7], \n",
    "    'knn__weights': ['uniform', 'distance']\n",
    "}\n",
    "\n",
    "grid_search = GridSearchCV(knn_pipeline, param_grid, cv=5, scoring='accuracy', n_jobs=-1)\n",
    "\n",
    "grid_search.fit(X_train, y_train)\n",
    "\n",
    "print(\"Best Hyperparameters:\", grid_search.best_params_)\n",
    "\n",
    "best_knn_model = grid_search.best_estimator_\n"
   ]
  },
  {
   "cell_type": "code",
   "execution_count": 15,
   "id": "b1c82cd8-dd70-48d0-a8b5-f308099ad7b0",
   "metadata": {},
   "outputs": [
    {
     "name": "stdout",
     "output_type": "stream",
     "text": [
      "Accuracy: 0.97\n",
      "\n",
      "Confusion Matrix:\n",
      "[[278  20]\n",
      " [ 10 892]]\n",
      "\n",
      "Classification Report:\n",
      "              precision    recall  f1-score   support\n",
      "\n",
      "         ham       0.97      0.93      0.95       298\n",
      "        spam       0.98      0.99      0.98       902\n",
      "\n",
      "    accuracy                           0.97      1200\n",
      "   macro avg       0.97      0.96      0.97      1200\n",
      "weighted avg       0.97      0.97      0.97      1200\n",
      "\n"
     ]
    }
   ],
   "source": [
    "# Model Prediction\n",
    "y_pred = best_knn_model.predict(X_test)\n",
    "\n",
    "# Model Evaluation\n",
    "accuracy = accuracy_score(y_test, y_pred)\n",
    "conf_matrix = confusion_matrix(y_test, y_pred)\n",
    "classification_rep = classification_report(y_test, y_pred)\n",
    "\n",
    "print(f\"Accuracy: {accuracy:.2f}\")\n",
    "print(\"\\nConfusion Matrix:\")\n",
    "print(conf_matrix)\n",
    "print(\"\\nClassification Report:\")\n",
    "print(classification_rep)"
   ]
  }
 ],
 "metadata": {
  "kernelspec": {
   "display_name": "Python 3 (ipykernel)",
   "language": "python",
   "name": "python3"
  },
  "language_info": {
   "codemirror_mode": {
    "name": "ipython",
    "version": 3
   },
   "file_extension": ".py",
   "mimetype": "text/x-python",
   "name": "python",
   "nbconvert_exporter": "python",
   "pygments_lexer": "ipython3",
   "version": "3.11.5"
  }
 },
 "nbformat": 4,
 "nbformat_minor": 5
}
